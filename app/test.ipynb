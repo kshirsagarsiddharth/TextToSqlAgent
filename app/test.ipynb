{
 "cells": [
  {
   "cell_type": "code",
   "execution_count": 1,
   "id": "e0619fb9",
   "metadata": {},
   "outputs": [],
   "source": [
    "from dotenv import load_dotenv\n",
    "import os \n",
    "import anthropic\n",
    "import re \n",
    "from sqlalchemy import text , create_engine\n",
    "\n",
    "import pandas as pd \n",
    "\n",
    "load_dotenv()\n",
    "db_string = os.getenv('DATABASE_URL')\n",
    "\n",
    "\n",
    "client = anthropic.Anthropic()\n",
    "\n",
    "\n",
    "engine = create_engine(db_string)\n",
    "\n",
    "\n",
    "system_prompt_path = \"../prompt_generation/system_prompt.md\"\n",
    "user_prompt_path = \"../prompt_generation/user_prompt.md\" \n",
    "table_metadata_path = \"../prompt_generation/table_metadata.md\" \n",
    "database_schema_path= \"../prompt_generation/database_schema.md\"\n",
    "\n",
    "\n"
   ]
  },
  {
   "cell_type": "code",
   "execution_count": 2,
   "id": "343be536",
   "metadata": {},
   "outputs": [],
   "source": [
    "def load_prompt(path):\n",
    "    with open(path,'r') as f: \n",
    "        prompt = f.read() \n",
    "    return prompt  \n"
   ]
  },
  {
   "cell_type": "code",
   "execution_count": 14,
   "id": "708dc435",
   "metadata": {},
   "outputs": [],
   "source": [
    "system_prompt = load_prompt(system_prompt_path)\n",
    "user_prompt = load_prompt(user_prompt_path)\n",
    "table_metadata = load_prompt(table_metadata_path)\n",
    "database_schema = load_prompt(database_schema_path)\n",
    "\n",
    "SYSTEM_PROMPT = system_prompt.replace(r\"{{TABLE_SCHEMA}}\", database_schema).replace(\n",
    "    r\"{{UNIQUE_VALUES}}\", table_metadata\n",
    ")\n"
   ]
  },
  {
   "cell_type": "code",
   "execution_count": null,
   "id": "acac6752",
   "metadata": {},
   "outputs": [],
   "source": [
    "def prompt_anthropic(question, system_prompt, user_prompt):\n",
    "    message = client.messages.create(\n",
    "        model=\"claude-3-7-sonnet-20250219\",\n",
    "        max_tokens=20000,\n",
    "        temperature=0.2,\n",
    "        system=system_prompt,\n",
    "        messages=[\n",
    "            {\n",
    "                \"role\": \"user\",\n",
    "                \"content\": [\n",
    "                    {\n",
    "                        \"type\": \"text\",\n",
    "                        \"text\": user_prompt.replace(\"{{USER_QUERY}}\", question),\n",
    "                    }\n",
    "                ],\n",
    "            }\n",
    "        ],\n",
    "    )\n",
    "    text = message.content[0].text\n",
    "    sql_query = re.search(\"<sql_query>(.*)</sql_query>\", text, re.DOTALL).group(1)\n",
    "    explanation = re.search(\"<explanation>(.*)</explanation>\", text, re.DOTALL).group(1)\n",
    "\n",
    "    return {\"text\": text, \"sql_query\": sql_query, \"explanation\": explanation}\n",
    "\n",
    "def extract_data(sql_query, engine): \n",
    "    with engine.connect() as connection: \n",
    "        result = connection.execute(text(sql_query))\n",
    "        rows = result.fetchall() \n",
    "    return pd.DataFrame(rows)\n"
   ]
  },
  {
   "cell_type": "code",
   "execution_count": 22,
   "id": "a2438c53",
   "metadata": {},
   "outputs": [],
   "source": [
    "question_answer = prompt_anthropic(\n",
    "    question= \"Give me all parts of FIG - 22 of VXI.\",\n",
    "    system_prompt=SYSTEM_PROMPT,\n",
    "    user_prompt=user_prompt,\n",
    ")"
   ]
  },
  {
   "cell_type": "code",
   "execution_count": 24,
   "id": "cc03b28a",
   "metadata": {},
   "outputs": [
    {
     "data": {
      "application/vnd.microsoft.datawrangler.viewer.v0+json": {
       "columns": [
        {
         "name": "index",
         "rawType": "int64",
         "type": "integer"
        },
        {
         "name": "partno",
         "rawType": "object",
         "type": "string"
        },
        {
         "name": "description",
         "rawType": "object",
         "type": "string"
        }
       ],
       "conversionMethod": "pd.DataFrame",
       "ref": "9d29b158-954a-4b76-b961-162c487225dd",
       "rows": [
        [
         "0",
         "33-028",
         "brake safety switch"
        ],
        [
         "1",
         "33-071",
         "seat switch 100 series tractors"
        ],
        [
         "2",
         "33-083",
         "electric pto control switch"
        ],
        [
         "3",
         "33-090",
         "seat switch"
        ],
        [
         "4",
         "33-099",
         "ignition key 100 series tractors"
        ],
        [
         "5",
         "33-335",
         "solenoid (except for z-force)"
        ],
        [
         "6",
         "33-351",
         "electrical terminal for connectors"
        ],
        [
         "7",
         "33-376",
         "ignition switch 100 series tractors"
        ],
        [
         "8",
         "60-040",
         "throttle cable lt1018"
        ],
        [
         "9",
         "60-056",
         "choke cable z-force with kohler engine(except z-fo"
        ],
        [
         "10",
         "60-064",
         "choke cable lt1018"
        ],
        [
         "11",
         "83-013",
         "oil filter 100 series 3\"od x 2-1/4\" ht, 2-13/16\" seal o"
        ]
       ],
       "shape": {
        "columns": 2,
        "rows": 12
       }
      },
      "text/html": [
       "<div>\n",
       "<style scoped>\n",
       "    .dataframe tbody tr th:only-of-type {\n",
       "        vertical-align: middle;\n",
       "    }\n",
       "\n",
       "    .dataframe tbody tr th {\n",
       "        vertical-align: top;\n",
       "    }\n",
       "\n",
       "    .dataframe thead th {\n",
       "        text-align: right;\n",
       "    }\n",
       "</style>\n",
       "<table border=\"1\" class=\"dataframe\">\n",
       "  <thead>\n",
       "    <tr style=\"text-align: right;\">\n",
       "      <th></th>\n",
       "      <th>partno</th>\n",
       "      <th>description</th>\n",
       "    </tr>\n",
       "  </thead>\n",
       "  <tbody>\n",
       "    <tr>\n",
       "      <th>0</th>\n",
       "      <td>33-028</td>\n",
       "      <td>brake safety switch</td>\n",
       "    </tr>\n",
       "    <tr>\n",
       "      <th>1</th>\n",
       "      <td>33-071</td>\n",
       "      <td>seat switch 100 series tractors</td>\n",
       "    </tr>\n",
       "    <tr>\n",
       "      <th>2</th>\n",
       "      <td>33-083</td>\n",
       "      <td>electric pto control switch</td>\n",
       "    </tr>\n",
       "    <tr>\n",
       "      <th>3</th>\n",
       "      <td>33-090</td>\n",
       "      <td>seat switch</td>\n",
       "    </tr>\n",
       "    <tr>\n",
       "      <th>4</th>\n",
       "      <td>33-099</td>\n",
       "      <td>ignition key 100 series tractors</td>\n",
       "    </tr>\n",
       "    <tr>\n",
       "      <th>5</th>\n",
       "      <td>33-335</td>\n",
       "      <td>solenoid (except for z-force)</td>\n",
       "    </tr>\n",
       "    <tr>\n",
       "      <th>6</th>\n",
       "      <td>33-351</td>\n",
       "      <td>electrical terminal for connectors</td>\n",
       "    </tr>\n",
       "    <tr>\n",
       "      <th>7</th>\n",
       "      <td>33-376</td>\n",
       "      <td>ignition switch 100 series tractors</td>\n",
       "    </tr>\n",
       "    <tr>\n",
       "      <th>8</th>\n",
       "      <td>60-040</td>\n",
       "      <td>throttle cable lt1018</td>\n",
       "    </tr>\n",
       "    <tr>\n",
       "      <th>9</th>\n",
       "      <td>60-056</td>\n",
       "      <td>choke cable z-force with kohler engine(except ...</td>\n",
       "    </tr>\n",
       "    <tr>\n",
       "      <th>10</th>\n",
       "      <td>60-064</td>\n",
       "      <td>choke cable lt1018</td>\n",
       "    </tr>\n",
       "    <tr>\n",
       "      <th>11</th>\n",
       "      <td>83-013</td>\n",
       "      <td>oil filter 100 series 3\"od x 2-1/4\" ht, 2-13/1...</td>\n",
       "    </tr>\n",
       "  </tbody>\n",
       "</table>\n",
       "</div>"
      ],
      "text/plain": [
       "    partno                                        description\n",
       "0   33-028                                brake safety switch\n",
       "1   33-071                    seat switch 100 series tractors\n",
       "2   33-083                        electric pto control switch\n",
       "3   33-090                                        seat switch\n",
       "4   33-099                   ignition key 100 series tractors\n",
       "5   33-335                      solenoid (except for z-force)\n",
       "6   33-351                 electrical terminal for connectors\n",
       "7   33-376                ignition switch 100 series tractors\n",
       "8   60-040                              throttle cable lt1018\n",
       "9   60-056  choke cable z-force with kohler engine(except ...\n",
       "10  60-064                                 choke cable lt1018\n",
       "11  83-013  oil filter 100 series 3\"od x 2-1/4\" ht, 2-13/1..."
      ]
     },
     "execution_count": 24,
     "metadata": {},
     "output_type": "execute_result"
    }
   ],
   "source": [
    "extract_data(question_answer['sql_query'], engine=engine)"
   ]
  },
  {
   "cell_type": "code",
   "execution_count": null,
   "id": "d95b6a6a",
   "metadata": {},
   "outputs": [],
   "source": []
  }
 ],
 "metadata": {
  "kernelspec": {
   "display_name": "flask_env",
   "language": "python",
   "name": "python3"
  },
  "language_info": {
   "codemirror_mode": {
    "name": "ipython",
    "version": 3
   },
   "file_extension": ".py",
   "mimetype": "text/x-python",
   "name": "python",
   "nbconvert_exporter": "python",
   "pygments_lexer": "ipython3",
   "version": "3.12.0"
  }
 },
 "nbformat": 4,
 "nbformat_minor": 5
}
