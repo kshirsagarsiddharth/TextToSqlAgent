{
 "cells": [
  {
   "cell_type": "code",
   "execution_count": 9,
   "id": "87a21b1c",
   "metadata": {},
   "outputs": [],
   "source": [
    "import pandas as pd \n",
    "from sqlalchemy import create_engine\n",
    "\n",
    "from dotenv import load_dotenv\n",
    "import os \n",
    "import json\n",
    "\n",
    "load_dotenv()\n",
    "db_string = os.getenv('DATABASE_URL')"
   ]
  },
  {
   "cell_type": "code",
   "execution_count": 3,
   "id": "a51e2b07",
   "metadata": {},
   "outputs": [],
   "source": [
    "\n",
    "engine = create_engine(db_string)"
   ]
  },
  {
   "cell_type": "code",
   "execution_count": 4,
   "id": "cd00ff92",
   "metadata": {},
   "outputs": [],
   "source": [
    "THRESHOLD = 15"
   ]
  },
  {
   "cell_type": "code",
   "execution_count": 5,
   "id": "e048aa8e",
   "metadata": {},
   "outputs": [],
   "source": [
    "df = pd.read_sql_table(\"velocity\", engine)"
   ]
  },
  {
   "cell_type": "code",
   "execution_count": 6,
   "id": "b5b40cdc",
   "metadata": {},
   "outputs": [],
   "source": [
    "def return_unique_categories(df):\n",
    "    categories = {}\n",
    "    for col in df.columns:\n",
    "        unique_categories = df[col].nunique()\n",
    "        if unique_categories < THRESHOLD: \n",
    "            categories[col] = df[col].drop_duplicates().tolist()\n",
    "        else: \n",
    "            categories[col] = df[col].drop_duplicates().sample(THRESHOLD).tolist()\n",
    "    return categories\n"
   ]
  },
  {
   "cell_type": "code",
   "execution_count": 7,
   "id": "0ce3f7c7",
   "metadata": {},
   "outputs": [],
   "source": [
    "unique_categories = return_unique_categories(df)"
   ]
  },
  {
   "cell_type": "code",
   "execution_count": 10,
   "id": "d2591649",
   "metadata": {},
   "outputs": [
    {
     "data": {
      "text/plain": [
       "'{\"category\": [\"four wheeler\"], \"vehicle\": [\"velocity\"], \"model\": [\"1.3 lxi\", \"1.3 vxi\", \"1.3 zxi\"], \"aggregate\": [\"engine, fuel group\", \"electrical group\", \"power train, chassis group\", \"body group\"], \"groupno\": [\"g599-plate - a\", \"fig - 21\", \"fig - 22\", \"fig-00025\", \"fig - 16\", \"fig - 17\", \"figno - 101\", null, \"e241d024\", \"fig - 19\", \"fig - 24\", \"fig - 18\", \"fig - 15\", \"fig - 14\", \"dosing002\"], \"assemblyname\": [\"roops assembly\", \"chassis assembly\", \"exhaust system\", \"filter assembly \", \"air intake assembly\", \"crankcase with stud\", \"side body\", \"starting motor\", \"front body panel\", \"engine assembly\", \"cooling system\", \"cylinder block group &cylinder block head includ\", \"oil pan group\", \"piston assembly \", \"battery\"], \"partno\": [\"75-886\", \"72-318\", \"21-222-23\", \"34-100\", \"82-513-2\", \"30-136\", \"07-103\", \"e04g130003\", \"82-220\", \"42-171\", \"33-134\", \"33-125-1\", \"06311-75018\", \"45-010\", \"42-174\"], \"description\": [\"spindle assy lt1042 with star blade hole (late productio\", \"spindle pulley for 42\\\\u201d cut\", \"choke cable z-force with kohler engine(except z-fo\", \"oil filter x300 series 2-3/4\\\\\"od x 2-7/8\\\\\" ht, 2-3/4\\\\\" seal od\", \"_5_transmission_brace\", \"brake safety switch x300 series tractors\", \"bearing kit\", \"guage wheel 4-3/4\\\\u201d x 1-3/8\\\\u201d\", \"blade rzt42 star center hole gatormulcher\\\\u2122 3 in 1\", \"pivot end caps\", \"pto engagement cable 100 series tractors\", \"wheel assembly\", \"v idler 100 series\", \"deck drive belt lt1042\", \"deck idler 100 series, 3-5/16\\\\u201d overall od, flat width 7/8\\\\u201d, bore:\"]}'"
      ]
     },
     "execution_count": 10,
     "metadata": {},
     "output_type": "execute_result"
    }
   ],
   "source": [
    "json.dumps(unique_categories)"
   ]
  },
  {
   "cell_type": "code",
   "execution_count": null,
   "id": "fb2b9d45",
   "metadata": {},
   "outputs": [
    {
     "data": {
      "text/plain": [
       "category        object\n",
       "vehicle         object\n",
       "model           object\n",
       "aggregate       object\n",
       "groupno         object\n",
       "assemblyname    object\n",
       "partno          object\n",
       "description     object\n",
       "dtype: object"
      ]
     },
     "execution_count": 36,
     "metadata": {},
     "output_type": "execute_result"
    }
   ],
   "source": [
    "\n",
    "Column Name     Data Type \n",
    "category        text\n",
    "vehicle         text\n",
    "model           text\n",
    "aggregate       text\n",
    "groupno         text\n",
    "assemblyname    text\n",
    "partno          text\n",
    "description     text"
   ]
  },
  {
   "cell_type": "markdown",
   "id": "47d53c2a",
   "metadata": {},
   "source": []
  }
 ],
 "metadata": {
  "kernelspec": {
   "display_name": "flask_env",
   "language": "python",
   "name": "python3"
  },
  "language_info": {
   "codemirror_mode": {
    "name": "ipython",
    "version": 3
   },
   "file_extension": ".py",
   "mimetype": "text/x-python",
   "name": "python",
   "nbconvert_exporter": "python",
   "pygments_lexer": "ipython3",
   "version": "3.12.0"
  }
 },
 "nbformat": 4,
 "nbformat_minor": 5
}
